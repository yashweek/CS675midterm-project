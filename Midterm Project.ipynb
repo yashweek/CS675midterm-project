{
 "cells": [
  {
   "cell_type": "markdown",
   "id": "87d2691d",
   "metadata": {},
   "source": [
    "### Midterm project - Kaggle exercise project\n",
    "\n",
    "https://www.kaggle.com/c/house-prices-advanced-regression-techniques\n",
    "\n",
    "Goals\n",
    "\n",
    "* Get familar with Kaggle competition since our final project may be a real Kaggle competition.\n",
    "* Practice on large data set\n",
    "* Data quality checking, missing data imputation\n",
    "* Feature selection. What's your rationals to choose those features.\n",
    "* Create at least 5 new features and explain your reason for every new features.\n",
    "* Use feature importance to help you choose 10 features\n",
    "* Choose 3 ML algorithms we covered in the class to build your prediction models\n",
    "* For each model you build, you will need to evaluate and show your effort to improve it.\n",
    "* Your jupyter submission should be in an article quality. Do NOT print huge data set in the notebook. Use head(). Use plotting to visualize your analysis and results. Use markdown to write your comments.\n",
    "* Your score is based on completeness on every step.\n",
    "* Submit in HTML and ipynb format on canvas"
   ]
  }
 ],
 "metadata": {
  "kernelspec": {
   "display_name": "Python 3",
   "language": "python",
   "name": "python3"
  },
  "language_info": {
   "codemirror_mode": {
    "name": "ipython",
    "version": 3
   },
   "file_extension": ".py",
   "mimetype": "text/x-python",
   "name": "python",
   "nbconvert_exporter": "python",
   "pygments_lexer": "ipython3",
   "version": "3.8.8"
  }
 },
 "nbformat": 4,
 "nbformat_minor": 5
}
